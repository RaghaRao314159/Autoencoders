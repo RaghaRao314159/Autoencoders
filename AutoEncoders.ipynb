{
  "cells": [
    {
      "cell_type": "markdown",
      "metadata": {
        "id": "V8KSo5Bb3T5h"
      },
      "source": [
        "# Generating digits using Autoencoders\n",
        "\n",
        "This notebook documents my attempt at generating new images using an autoencoder. The autoencoder is trained on MNIST dataset.\n",
        "\n",
        "# Overview of the sections:\n",
        "- **Regenerate dataset:** In this section, I use a simple autoencoder to regenerate images from the MNIST dataset.\n",
        "- **Improve autoencoder:** Then, I spice up the model architecture to get the best validation loss\n",
        "- **Generate new RBG Images:** Finally using the autoencoder, I created a function that takes in a digit and outputs RBG image of the digit."
      ]
    },
    {
      "cell_type": "markdown",
      "metadata": {
        "id": "mojjOgL6Yu7a"
      },
      "source": [
        "# Setup"
      ]
    },
    {
      "cell_type": "code",
      "execution_count": 1,
      "metadata": {
        "colab": {
          "base_uri": "https://localhost:8080/"
        },
        "id": "Muqgok8D6ECN",
        "outputId": "e87baad9-ab8a-4b32-fe88-9450a0e24f1d"
      },
      "outputs": [
        {
          "output_type": "stream",
          "name": "stdout",
          "text": [
            "Looking in indexes: https://download.pytorch.org/whl/cpu\n",
            "Requirement already satisfied: torch in /usr/local/lib/python3.10/dist-packages (2.5.1+cu121)\n",
            "Requirement already satisfied: torchvision in /usr/local/lib/python3.10/dist-packages (0.20.1+cu121)\n",
            "Requirement already satisfied: filelock in /usr/local/lib/python3.10/dist-packages (from torch) (3.16.1)\n",
            "Requirement already satisfied: typing-extensions>=4.8.0 in /usr/local/lib/python3.10/dist-packages (from torch) (4.12.2)\n",
            "Requirement already satisfied: networkx in /usr/local/lib/python3.10/dist-packages (from torch) (3.4.2)\n",
            "Requirement already satisfied: jinja2 in /usr/local/lib/python3.10/dist-packages (from torch) (3.1.4)\n",
            "Requirement already satisfied: fsspec in /usr/local/lib/python3.10/dist-packages (from torch) (2024.10.0)\n",
            "Requirement already satisfied: sympy==1.13.1 in /usr/local/lib/python3.10/dist-packages (from torch) (1.13.1)\n",
            "Requirement already satisfied: mpmath<1.4,>=1.1.0 in /usr/local/lib/python3.10/dist-packages (from sympy==1.13.1->torch) (1.3.0)\n",
            "Requirement already satisfied: numpy in /usr/local/lib/python3.10/dist-packages (from torchvision) (1.26.4)\n",
            "Requirement already satisfied: pillow!=8.3.*,>=5.3.0 in /usr/local/lib/python3.10/dist-packages (from torchvision) (11.0.0)\n",
            "Requirement already satisfied: MarkupSafe>=2.0 in /usr/local/lib/python3.10/dist-packages (from jinja2->torch) (3.0.2)\n",
            "Requirement already satisfied: gdown in /usr/local/lib/python3.10/dist-packages (5.2.0)\n",
            "Requirement already satisfied: beautifulsoup4 in /usr/local/lib/python3.10/dist-packages (from gdown) (4.12.3)\n",
            "Requirement already satisfied: filelock in /usr/local/lib/python3.10/dist-packages (from gdown) (3.16.1)\n",
            "Requirement already satisfied: requests[socks] in /usr/local/lib/python3.10/dist-packages (from gdown) (2.32.3)\n",
            "Requirement already satisfied: tqdm in /usr/local/lib/python3.10/dist-packages (from gdown) (4.67.1)\n",
            "Requirement already satisfied: soupsieve>1.2 in /usr/local/lib/python3.10/dist-packages (from beautifulsoup4->gdown) (2.6)\n",
            "Requirement already satisfied: charset-normalizer<4,>=2 in /usr/local/lib/python3.10/dist-packages (from requests[socks]->gdown) (3.4.0)\n",
            "Requirement already satisfied: idna<4,>=2.5 in /usr/local/lib/python3.10/dist-packages (from requests[socks]->gdown) (3.10)\n",
            "Requirement already satisfied: urllib3<3,>=1.21.1 in /usr/local/lib/python3.10/dist-packages (from requests[socks]->gdown) (2.2.3)\n",
            "Requirement already satisfied: certifi>=2017.4.17 in /usr/local/lib/python3.10/dist-packages (from requests[socks]->gdown) (2024.12.14)\n",
            "Requirement already satisfied: PySocks!=1.5.7,>=1.5.6 in /usr/local/lib/python3.10/dist-packages (from requests[socks]->gdown) (1.7.1)\n"
          ]
        }
      ],
      "source": [
        "! pip install torch torchvision --index-url https://download.pytorch.org/whl/cpu\n",
        "! pip install gdown"
      ]
    },
    {
      "cell_type": "code",
      "execution_count": 2,
      "metadata": {
        "id": "uZho3T0-nlxQ"
      },
      "outputs": [],
      "source": [
        "# DO NOT MODIFY\n",
        "import os\n",
        "import matplotlib.pyplot as plt\n",
        "import numpy as np\n",
        "import random\n",
        "import torch\n",
        "import time\n",
        "from numpy.typing import NDArray\n",
        "from torch import nn, optim\n",
        "from torch.utils.data import DataLoader\n",
        "from tqdm import tqdm\n",
        "\n",
        "\n",
        "def seed_everything(seed=42):\n",
        "    random.seed(seed)\n",
        "    os.environ['PYTHONHASHSEED'] = str(seed)\n",
        "    np.random.seed(seed)\n",
        "    torch.manual_seed(seed)\n",
        "    torch.cuda.manual_seed(seed)\n",
        "    torch.backends.cudnn.deterministic = True\n",
        "\n",
        "seed_everything()\n"
      ]
    },
    {
      "cell_type": "code",
      "source": [
        "# DO NOT MODIFY\n",
        "import gdown\n",
        "\n",
        "os.makedirs(\"data\", exist_ok=True)\n",
        "\n",
        "mnist_train_file_id = \"1JMd32keTqqUAofWRPBnIg9PpusJD8mYt\"\n",
        "mnist_train_output = \"data/mnist_dataset_train.pt\"  # Desired filename for the downloaded file\n",
        "\n",
        "mnist_test_file_id = \"1OG8mBivCdXBwH8uCMvjWnVhHFtRagmSU\"\n",
        "mnist_test_output = \"data/mnist_dataset_test.pt\"  # Desired filename for the downloaded file\n",
        "\n",
        "# Download the file\n",
        "gdown.download(f\"https://drive.google.com/uc?id={mnist_train_file_id}\", mnist_train_output, quiet=False)\n",
        "gdown.download(f\"https://drive.google.com/uc?id={mnist_test_file_id}\", mnist_test_output, quiet=False)"
      ],
      "metadata": {
        "colab": {
          "base_uri": "https://localhost:8080/",
          "height": 188
        },
        "id": "iui2EFMSoccW",
        "outputId": "1d1fc02b-f116-4b9c-960e-e37286752dfb"
      },
      "execution_count": 3,
      "outputs": [
        {
          "output_type": "stream",
          "name": "stderr",
          "text": [
            "Downloading...\n",
            "From (original): https://drive.google.com/uc?id=1JMd32keTqqUAofWRPBnIg9PpusJD8mYt\n",
            "From (redirected): https://drive.google.com/uc?id=1JMd32keTqqUAofWRPBnIg9PpusJD8mYt&confirm=t&uuid=4664ac2e-3866-473c-b82f-3381b17625c4\n",
            "To: /content/data/mnist_dataset_train.pt\n",
            "100%|██████████| 47.5M/47.5M [00:00<00:00, 81.8MB/s]\n",
            "Downloading...\n",
            "From: https://drive.google.com/uc?id=1OG8mBivCdXBwH8uCMvjWnVhHFtRagmSU\n",
            "To: /content/data/mnist_dataset_test.pt\n",
            "100%|██████████| 7.92M/7.92M [00:00<00:00, 52.3MB/s]\n"
          ]
        },
        {
          "output_type": "execute_result",
          "data": {
            "text/plain": [
              "'data/mnist_dataset_test.pt'"
            ],
            "application/vnd.google.colaboratory.intrinsic+json": {
              "type": "string"
            }
          },
          "metadata": {},
          "execution_count": 3
        }
      ]
    },
    {
      "cell_type": "markdown",
      "metadata": {
        "id": "2ZFkZMKwEAj0"
      },
      "source": [
        "# Section 1 - Regenerate MNIST dataset\n",
        "\n",
        "As a base autoencoder, this model contains just linear layers"
      ]
    },
    {
      "cell_type": "code",
      "execution_count": 4,
      "metadata": {
        "id": "4BCOJiKzFDOT"
      },
      "outputs": [],
      "source": [
        "# Simple Autoencoder\n",
        "class Autoencoder(nn.Module):\n",
        "    def __init__(self):\n",
        "        super(Autoencoder, self).__init__()\n",
        "        self.encoder = nn.Sequential(\n",
        "            nn.Flatten(),\n",
        "            nn.Linear(28 * 28, 128),\n",
        "            nn.ReLU(),\n",
        "            nn.Linear(128, 64),\n",
        "            nn.ReLU(),\n",
        "            nn.Linear(64, 32)\n",
        "        )\n",
        "        self.decoder = nn.Sequential(\n",
        "            nn.Linear(32, 64),\n",
        "            nn.ReLU(),\n",
        "            nn.Linear(64, 128),\n",
        "            nn.ReLU(),\n",
        "            nn.Linear(128, 28 * 28),\n",
        "            nn.Sigmoid()\n",
        "        )\n",
        "\n",
        "    def forward(self, x):\n",
        "        x = self.encoder(x)\n",
        "        x = self.decoder(x)\n",
        "        return x"
      ]
    },
    {
      "cell_type": "code",
      "execution_count": 5,
      "metadata": {
        "id": "CQib-F6UFHhJ"
      },
      "outputs": [],
      "source": [
        "model = Autoencoder()\n",
        "\n",
        "# output has already passed through a sigmoid so loss function should just be BCELoss\n",
        "criterion = nn.BCELoss()\n",
        "\n",
        "optimizer = optim.Adam(model.parameters(), lr=0.0001)"
      ]
    },
    {
      "cell_type": "markdown",
      "source": [
        "---------------------------------------\n",
        "\n",
        "In order to evaluate BCE (Binary Cross Entropy) loss, both target and predicted values have to be between 0 and 1. Therefore, we need to normalise the dataset images.\n",
        "\n",
        "This can be performed using 2 ways, a sigmoid function or dividing pixel values by 255. The latter performs much better."
      ],
      "metadata": {
        "id": "OEKmH7YBo_pq"
      }
    },
    {
      "cell_type": "code",
      "execution_count": 6,
      "metadata": {
        "id": "4bwfuyYv6ECS"
      },
      "outputs": [],
      "source": [
        "# sigmoid function\n",
        "s = nn.Sigmoid()\n",
        "\n",
        "def toTensor(x):\n",
        "  return torch.from_numpy(np.array(x)).float()\n",
        "\n",
        "def normalise(x):\n",
        "    # normalise to be between 0 and 1\n",
        "    # works much better\n",
        "    return x/255\n",
        "\n",
        "def my_transform1(x):\n",
        "    return normalise(toTensor(x))\n",
        "\n",
        "def my_transform2(x):\n",
        "    return s(toTensor(x))"
      ]
    },
    {
      "cell_type": "markdown",
      "source": [
        "-----------------------------\n",
        "Load dataset"
      ],
      "metadata": {
        "id": "OZ0RH-KeqK1r"
      }
    },
    {
      "cell_type": "code",
      "execution_count": 7,
      "metadata": {
        "colab": {
          "base_uri": "https://localhost:8080/"
        },
        "id": "oxrid9iU6ECS",
        "outputId": "0c564717-27ba-4d6b-bea8-742a1129c16e"
      },
      "outputs": [
        {
          "output_type": "stream",
          "name": "stderr",
          "text": [
            "<ipython-input-7-31873fa3c5e0>:1: FutureWarning: You are using `torch.load` with `weights_only=False` (the current default value), which uses the default pickle module implicitly. It is possible to construct malicious pickle data which will execute arbitrary code during unpickling (See https://github.com/pytorch/pytorch/blob/main/SECURITY.md#untrusted-models for more details). In a future release, the default value for `weights_only` will be flipped to `True`. This limits the functions that could be executed during unpickling. Arbitrary objects will no longer be allowed to be loaded via this mode unless they are explicitly allowlisted by the user via `torch.serialization.add_safe_globals`. We recommend you start setting `weights_only=True` for any use case where you don't have full control of the loaded file. Please open an issue on GitHub for any issues related to this experimental feature.\n",
            "  train_dataset = torch.load('data/mnist_dataset_train.pt')\n",
            "<ipython-input-7-31873fa3c5e0>:5: FutureWarning: You are using `torch.load` with `weights_only=False` (the current default value), which uses the default pickle module implicitly. It is possible to construct malicious pickle data which will execute arbitrary code during unpickling (See https://github.com/pytorch/pytorch/blob/main/SECURITY.md#untrusted-models for more details). In a future release, the default value for `weights_only` will be flipped to `True`. This limits the functions that could be executed during unpickling. Arbitrary objects will no longer be allowed to be loaded via this mode unless they are explicitly allowlisted by the user via `torch.serialization.add_safe_globals`. We recommend you start setting `weights_only=True` for any use case where you don't have full control of the loaded file. Please open an issue on GitHub for any issues related to this experimental feature.\n",
            "  test_dataset = torch.load('data/mnist_dataset_test.pt')\n"
          ]
        }
      ],
      "source": [
        "train_dataset = torch.load('data/mnist_dataset_train.pt')\n",
        "train_dataset.transform = toTensor\n",
        "# train_dataset.transform = my_transform2\n",
        "\n",
        "test_dataset = torch.load('data/mnist_dataset_test.pt')\n",
        "test_dataset.transform = toTensor\n",
        "# test_dataset.transform = my_transform2"
      ]
    },
    {
      "cell_type": "markdown",
      "source": [
        "-------------------------------\n",
        "training loop"
      ],
      "metadata": {
        "id": "ohCO63fZqaoZ"
      }
    },
    {
      "cell_type": "code",
      "execution_count": 8,
      "metadata": {
        "colab": {
          "base_uri": "https://localhost:8080/",
          "height": 827
        },
        "id": "3b1tlMJM-ajs",
        "outputId": "ff7ef55f-8791-477d-a122-a69f7e62fcf4"
      },
      "outputs": [
        {
          "output_type": "stream",
          "name": "stderr",
          "text": [
            "Epoch 1:  12%|█▏        | 109/938 [00:01<00:10, 76.01it/s]"
          ]
        },
        {
          "output_type": "stream",
          "name": "stdout",
          "text": [
            "loss: 0.2884804904460907\n"
          ]
        },
        {
          "output_type": "stream",
          "name": "stderr",
          "text": [
            "Epoch 1:  23%|██▎       | 215/938 [00:02<00:08, 82.90it/s]"
          ]
        },
        {
          "output_type": "stream",
          "name": "stdout",
          "text": [
            "loss: 0.26230573654174805\n"
          ]
        },
        {
          "output_type": "stream",
          "name": "stderr",
          "text": [
            "Epoch 1:  33%|███▎      | 313/938 [00:04<00:07, 81.77it/s]"
          ]
        },
        {
          "output_type": "stream",
          "name": "stdout",
          "text": [
            "loss: 0.23533999919891357\n"
          ]
        },
        {
          "output_type": "stream",
          "name": "stderr",
          "text": [
            "Epoch 1:  44%|████▍     | 412/938 [00:05<00:06, 81.24it/s]"
          ]
        },
        {
          "output_type": "stream",
          "name": "stdout",
          "text": [
            "loss: 0.21495233476161957\n"
          ]
        },
        {
          "output_type": "stream",
          "name": "stderr",
          "text": [
            "Epoch 1:  54%|█████▍    | 510/938 [00:06<00:05, 81.59it/s]"
          ]
        },
        {
          "output_type": "stream",
          "name": "stdout",
          "text": [
            "loss: 0.2095012068748474\n"
          ]
        },
        {
          "output_type": "stream",
          "name": "stderr",
          "text": [
            "Epoch 1:  65%|██████▍   | 609/938 [00:07<00:04, 80.23it/s]"
          ]
        },
        {
          "output_type": "stream",
          "name": "stdout",
          "text": [
            "loss: 0.19022494554519653\n"
          ]
        },
        {
          "output_type": "stream",
          "name": "stderr",
          "text": [
            "Epoch 1:  76%|███████▌  | 712/938 [00:09<00:03, 73.39it/s]"
          ]
        },
        {
          "output_type": "stream",
          "name": "stdout",
          "text": [
            "loss: 0.18890057504177094\n"
          ]
        },
        {
          "output_type": "stream",
          "name": "stderr",
          "text": [
            "Epoch 1:  86%|████████▌ | 809/938 [00:10<00:02, 51.94it/s]"
          ]
        },
        {
          "output_type": "stream",
          "name": "stdout",
          "text": [
            "loss: 0.17717070877552032\n"
          ]
        },
        {
          "output_type": "stream",
          "name": "stderr",
          "text": [
            "Epoch 1:  97%|█████████▋| 906/938 [00:12<00:00, 47.30it/s]"
          ]
        },
        {
          "output_type": "stream",
          "name": "stdout",
          "text": [
            "loss: 0.17460717260837555\n"
          ]
        },
        {
          "output_type": "stream",
          "name": "stderr",
          "text": [
            "Epoch 1: 100%|██████████| 938/938 [00:13<00:00, 71.05it/s]\n",
            "Epoch 2:  12%|█▏        | 111/938 [00:01<00:12, 68.65it/s]"
          ]
        },
        {
          "output_type": "stream",
          "name": "stdout",
          "text": [
            "loss: 0.15580709278583527\n"
          ]
        },
        {
          "output_type": "stream",
          "name": "stderr",
          "text": [
            "Epoch 2:  23%|██▎       | 215/938 [00:02<00:09, 74.42it/s]"
          ]
        },
        {
          "output_type": "stream",
          "name": "stdout",
          "text": [
            "loss: 0.1701413244009018\n"
          ]
        },
        {
          "output_type": "stream",
          "name": "stderr",
          "text": [
            "Epoch 2:  33%|███▎      | 311/938 [00:04<00:08, 71.56it/s]"
          ]
        },
        {
          "output_type": "stream",
          "name": "stdout",
          "text": [
            "loss: 0.15678322315216064\n"
          ]
        },
        {
          "output_type": "stream",
          "name": "stderr",
          "text": [
            "Epoch 2:  44%|████▍     | 415/938 [00:05<00:07, 74.68it/s]"
          ]
        },
        {
          "output_type": "stream",
          "name": "stdout",
          "text": [
            "loss: 0.15088969469070435\n"
          ]
        },
        {
          "output_type": "stream",
          "name": "stderr",
          "text": [
            "Epoch 2:  54%|█████▍    | 511/938 [00:07<00:06, 70.94it/s]"
          ]
        },
        {
          "output_type": "stream",
          "name": "stdout",
          "text": [
            "loss: 0.15056683123111725\n"
          ]
        },
        {
          "output_type": "stream",
          "name": "stderr",
          "text": [
            "Epoch 2:  66%|██████▌   | 615/938 [00:08<00:04, 71.39it/s]"
          ]
        },
        {
          "output_type": "stream",
          "name": "stdout",
          "text": [
            "loss: 0.14834538102149963\n"
          ]
        },
        {
          "output_type": "stream",
          "name": "stderr",
          "text": [
            "Epoch 2:  76%|███████▌  | 711/938 [00:09<00:03, 66.28it/s]"
          ]
        },
        {
          "output_type": "stream",
          "name": "stdout",
          "text": [
            "loss: 0.15427836775779724\n"
          ]
        },
        {
          "output_type": "stream",
          "name": "stderr",
          "text": [
            "Epoch 2:  86%|████████▌ | 809/938 [00:11<00:02, 50.93it/s]"
          ]
        },
        {
          "output_type": "stream",
          "name": "stdout",
          "text": [
            "loss: 0.14413711428642273\n"
          ]
        },
        {
          "output_type": "stream",
          "name": "stderr",
          "text": [
            "Epoch 2:  97%|█████████▋| 914/938 [00:13<00:00, 71.94it/s]"
          ]
        },
        {
          "output_type": "stream",
          "name": "stdout",
          "text": [
            "loss: 0.14849251508712769\n"
          ]
        },
        {
          "output_type": "stream",
          "name": "stderr",
          "text": [
            "Epoch 2: 100%|██████████| 938/938 [00:13<00:00, 67.38it/s]\n"
          ]
        },
        {
          "output_type": "display_data",
          "data": {
            "text/plain": [
              "<Figure size 1000x500 with 1 Axes>"
            ],
            "image/png": "[encoded data removed]"
          },
          "metadata": {}
        }
      ],
      "source": [
        "train_loader = DataLoader(train_dataset, batch_size=64, shuffle=False)\n",
        "\n",
        "# Lists to store loss values for plotting\n",
        "train_losses = []\n",
        "\n",
        "\n",
        "# Training Loop\n",
        "for epoch in range(2):\n",
        "    model.train()\n",
        "    for i, (inputs, _) in enumerate(tqdm(train_loader, desc=f\"Epoch {epoch + 1}\")):\n",
        "        outputs = model(inputs)\n",
        "        reshaped_outputs = outputs.reshape_as(inputs)\n",
        "\n",
        "        # ensure target is also between 0 and 1\n",
        "        # version 1\n",
        "        # loss = criterion(reshaped_outputs, s(inputs))\n",
        "\n",
        "        # version 2\n",
        "        loss = criterion(reshaped_outputs, normalise(inputs))\n",
        "\n",
        "        loss.backward()\n",
        "        optimizer.step()\n",
        "\n",
        "        # zero the gradients for next iteration\n",
        "        optimizer.zero_grad()\n",
        "\n",
        "        train_losses.append(loss.item()) # Store loss for plotting\n",
        "        if (i + 1) % 100 == 0:\n",
        "            print(f\"loss: {loss.item()}\")\n",
        "\n",
        "\n",
        "# Plotting the loss\n",
        "plt.figure(figsize=(10, 5))\n",
        "plt.plot(train_losses, label='Training Loss')\n",
        "plt.xlabel('Iteration')\n",
        "plt.ylabel('Loss')\n",
        "plt.title('Training Loss Curve')\n",
        "plt.legend()\n",
        "plt.grid(True)\n",
        "plt.show()"
      ]
    },
    {
      "cell_type": "markdown",
      "source": [
        "------------------------------\n",
        "Visualise reconstruction of images"
      ],
      "metadata": {
        "id": "rwpzq5QoqiZ5"
      }
    },
    {
      "cell_type": "code",
      "execution_count": 9,
      "metadata": {
        "id": "HFDY_Xm5-iNm"
      },
      "outputs": [],
      "source": [
        "test_loader = DataLoader(test_dataset, batch_size=64, shuffle=False)\n",
        "model.eval()\n",
        "test_inputs = []\n",
        "test_outputs = []\n",
        "for inputs, _ in test_loader:\n",
        "    outputs = model(inputs)\n",
        "    test_inputs.append(inputs.detach().cpu().numpy())\n",
        "    test_outputs.append(outputs.reshape_as(inputs).detach().cpu().numpy())"
      ]
    },
    {
      "cell_type": "code",
      "execution_count": 10,
      "metadata": {
        "id": "EOkcT4qBLHdm"
      },
      "outputs": [],
      "source": [
        "# Convert lists of tensors to numpy arrays\n",
        "test_inputs = np.concatenate(test_inputs)\n",
        "test_outputs = np.concatenate(test_outputs)"
      ]
    },
    {
      "cell_type": "code",
      "execution_count": 11,
      "metadata": {
        "colab": {
          "base_uri": "https://localhost:8080/",
          "height": 1000
        },
        "id": "bzwptrUfImXw",
        "outputId": "9556aa25-cbfb-45da-97e8-e1a0d4f483f8"
      },
      "outputs": [
        {
          "output_type": "display_data",
          "data": {
            "text/plain": [
              "<Figure size 600x300 with 2 Axes>"
            ],
            "image/png": "[encoded data removed]"
          },
          "metadata": {}
        },
        {
          "output_type": "display_data",
          "data": {
            "text/plain": [
              "<Figure size 600x300 with 2 Axes>"
            ],
            "image/png": "[encoded data removed]"
          },
          "metadata": {}
        },
        {
          "output_type": "display_data",
          "data": {
            "text/plain": [
              "<Figure size 600x300 with 2 Axes>"
            ],
            "image/png": "[encoded data removed]"
          },
          "metadata": {}
        },
        {
          "output_type": "display_data",
          "data": {
            "text/plain": [
              "<Figure size 600x300 with 2 Axes>"
            ],
            "image/png": "[encoded data removed]"
          },
          "metadata": {}
        },
        {
          "output_type": "display_data",
          "data": {
            "text/plain": [
              "<Figure size 600x300 with 2 Axes>"
            ],
            "image/png": "[encoded data removed]"
          },
          "metadata": {}
        }
      ],
      "source": [
        "num_images = 5\n",
        "\n",
        "for i in range(num_images):\n",
        "    plt.figure(figsize=(6, 3))\n",
        "\n",
        "    # Original image\n",
        "    plt.subplot(1, 2, 1)\n",
        "    plt.imshow(test_inputs[i, :, :], cmap=\"gray\")\n",
        "    plt.title(\"Original Image\")\n",
        "\n",
        "    # Reconstructed image\n",
        "    plt.subplot(1, 2, 2)\n",
        "    plt.imshow(test_outputs[i, :, :], cmap=\"gray\")\n",
        "    plt.title(\"Reconstructed Image\")\n",
        "\n",
        "    plt.show()"
      ]
    },
    {
      "cell_type": "markdown",
      "metadata": {
        "id": "KpvR0T2gEKQs",
        "tags": []
      },
      "source": [
        "# Section 2 - Improve autoencoder"
      ]
    },
    {
      "cell_type": "markdown",
      "metadata": {
        "id": "Z1VvN1AlkKhZ"
      },
      "source": [
        "I experimented with various models. The final model is the one that worked best.  "
      ]
    },
    {
      "cell_type": "code",
      "execution_count": 12,
      "metadata": {
        "id": "5Asz67uwD-So"
      },
      "outputs": [],
      "source": [
        "class AdvancedAutoencoder2(nn.Module):\n",
        "  def __init__(self, latent_dim=32):\n",
        "    \"\"\"Make sure encoder compresses the image to a 32-dimensional latent vector.\"\"\"\n",
        "    # final val loss: 0.1540\n",
        "    super(AdvancedAutoencoder2, self).__init__()\n",
        "    # TODO: Write your implementation here\n",
        "    self.conv1 = nn.Conv2d(in_channels = 1, out_channels = 32, kernel_size = 3, padding = 'same', bias = True)\n",
        "    self.batchnorm2d_1 = nn.BatchNorm2d(num_features = 32)\n",
        "\n",
        "    self.conv2 = nn.Conv2d(in_channels = 32, out_channels = 64, kernel_size = 3, padding = 'same', bias = True)\n",
        "    self.batchnorm2d_2 = nn.BatchNorm2d(num_features = 64)\n",
        "\n",
        "    self.flatten = nn.Flatten(start_dim = -3)\n",
        "    self.relu = nn.ReLU()\n",
        "    self.pool = nn.MaxPool2d(kernel_size = 2)\n",
        "    self.dropout = nn.Dropout(p = 0.25)\n",
        "\n",
        "    self.convBlock = nn.Sequential(\n",
        "        self.conv1,\n",
        "        self.relu,\n",
        "        self.batchnorm2d_1,\n",
        "\n",
        "        self.pool,\n",
        "        self.dropout,\n",
        "\n",
        "        self.conv2,\n",
        "        self.relu,\n",
        "        self.batchnorm2d_2,\n",
        "    )\n",
        "\n",
        "    self.encoder = nn.Sequential(\n",
        "        self.flatten,\n",
        "        nn.Linear(64 * 14 * 14, 128),\n",
        "        self.relu,\n",
        "        nn.Linear(128, 64),\n",
        "        self.relu,\n",
        "        # nn.BatchNorm1d(num_features = 64, eps = 10**(-5), affine = True, track_running_stats = True),\n",
        "        nn.Linear(64, 32)\n",
        "    )\n",
        "    self.decoder = nn.Sequential(\n",
        "        nn.Linear(32, 64),\n",
        "        self.relu,\n",
        "        # nn.BatchNorm1d(num_features = 64, eps = 10**(-5), affine = True, track_running_stats = True),\n",
        "        nn.Linear(64, 128),\n",
        "        self.relu,\n",
        "        nn.Linear(128, 28 * 28),\n",
        "        nn.Sigmoid()\n",
        "    )\n",
        "\n",
        "  def forward(self, x):\n",
        "    # TODO: Write your implementation here\n",
        "    x = torch.unsqueeze(x, -3)\n",
        "    x = self.convBlock(x)\n",
        "    x = self.encoder(x)\n",
        "    x = self.decoder(x)\n",
        "    return x\n",
        "\n",
        "class AdvancedAutoencoder1(nn.Module):\n",
        "  def __init__(self, latent_dim=32):\n",
        "    \"\"\"Make sure encoder compresses the image to a 32-dimensional latent vector.\"\"\"\n",
        "    # final val loss: 0.1494\n",
        "    super(AdvancedAutoencoder1, self).__init__()\n",
        "    # TODO: Write your implementation here\n",
        "\n",
        "    self.relu = nn.ReLU()\n",
        "\n",
        "    self.encoder = nn.Sequential(\n",
        "        nn.Flatten(),\n",
        "        nn.Linear(28 * 28, 128),\n",
        "        self.relu,\n",
        "        nn.Linear(128, 64),\n",
        "        self.relu,\n",
        "        nn.Linear(64, 32)\n",
        "    )\n",
        "    self.decoder = nn.Sequential(\n",
        "        nn.Linear(32, 64),\n",
        "        self.relu,\n",
        "        nn.Linear(64, 128),\n",
        "        self.relu,\n",
        "        nn.Linear(128, 28 * 28),\n",
        "        nn.Sigmoid()\n",
        "    )\n",
        "\n",
        "  def forward(self, x):\n",
        "    # TODO: Write your implementation here\n",
        "    x = self.encoder(x)\n",
        "    x = self.decoder(x)\n",
        "    return x\n",
        "\n",
        "class AdvancedAutoencoder3(nn.Module):\n",
        "  def __init__(self, latent_dim=32):\n",
        "    \"\"\"Make sure encoder compresses the image to a 32-dimensional latent vector.\"\"\"\n",
        "    # final val loss: 0.1330\n",
        "    super(AdvancedAutoencoder3, self).__init__()\n",
        "    # TODO: Write your implementation here\n",
        "\n",
        "    self.relu = nn.ReLU()\n",
        "\n",
        "    self.encoder = nn.Sequential(\n",
        "        nn.Flatten(),\n",
        "        nn.Linear(28 * 28, 512),\n",
        "        self.relu,\n",
        "        nn.Linear(512, 256),\n",
        "        self.relu,\n",
        "        nn.Linear(256, 128),\n",
        "        self.relu,\n",
        "        nn.Linear(128, 64),\n",
        "        self.relu,\n",
        "        nn.Linear(64, 32)\n",
        "    )\n",
        "    self.decoder = nn.Sequential(\n",
        "        nn.Linear(32, 64),\n",
        "        self.relu,\n",
        "        nn.Linear(64, 128),\n",
        "        self.relu,\n",
        "        nn.Linear(128, 256),\n",
        "        self.relu,\n",
        "        nn.Linear(256, 512),\n",
        "        self.relu,\n",
        "        nn.Linear(512, 28 * 28),\n",
        "        nn.Sigmoid()\n",
        "    )\n",
        "\n",
        "  def forward(self, x):\n",
        "    # TODO: Write your implementation here\n",
        "    x = self.encoder(x)\n",
        "    x = self.decoder(x)\n",
        "    return x\n",
        "\n",
        "\n",
        "class AdvancedAutoencoder4(nn.Module):\n",
        "  def __init__(self, latent_dim=32):\n",
        "    \"\"\"Make sure encoder compresses the image to a 32-dimensional latent vector.\"\"\"\n",
        "    # final val loss: 0.2736\n",
        "    super(AdvancedAutoencoder4, self).__init__()\n",
        "    # TODO: Write your implementation here\n",
        "\n",
        "    self.relu = nn.ReLU()\n",
        "    self.leakyrelu = nn.LeakyReLU()\n",
        "    self.dropout = nn.Dropout(p = 0.5)\n",
        "\n",
        "    self.encoder = nn.Sequential(\n",
        "        nn.Flatten(),\n",
        "\n",
        "        nn.Linear(28 * 28, 512),\n",
        "        self.leakyrelu,\n",
        "        self.dropout,\n",
        "\n",
        "        nn.Linear(512, 256),\n",
        "        self.leakyrelu,\n",
        "        self.dropout,\n",
        "\n",
        "        nn.Linear(256, 128),\n",
        "        self.leakyrelu,\n",
        "        self.dropout,\n",
        "\n",
        "        nn.Linear(128, 64),\n",
        "        self.leakyrelu,\n",
        "        self.dropout,\n",
        "\n",
        "        nn.Linear(64, 32),\n",
        "        self.leakyrelu\n",
        "    )\n",
        "    self.decoder = nn.Sequential(\n",
        "        nn.Linear(32, 64),\n",
        "        self.leakyrelu,\n",
        "        self.dropout,\n",
        "\n",
        "        nn.Linear(64, 128),\n",
        "        self.leakyrelu,\n",
        "        self.dropout,\n",
        "\n",
        "        nn.Linear(128, 256),\n",
        "        self.leakyrelu,\n",
        "        self.dropout,\n",
        "\n",
        "        nn.Linear(256, 512),\n",
        "        self.leakyrelu,\n",
        "        self.dropout,\n",
        "\n",
        "        nn.Linear(512, 28 * 28),\n",
        "        nn.Sigmoid()\n",
        "    )\n",
        "\n",
        "  def forward(self, x):\n",
        "    # TODO: Write your implementation here\n",
        "    x = self.encoder(x)\n",
        "    x = self.decoder(x)\n",
        "    return x\n",
        "\n",
        "\n",
        "class AdvancedAutoencoder5(nn.Module):\n",
        "  def __init__(self, latent_dim=32):\n",
        "    \"\"\"Make sure encoder compresses the image to a 32-dimensional latent vector.\"\"\"\n",
        "    # final val loss: 0.7 (doesnt work)\n",
        "    super(AdvancedAutoencoder5, self).__init__()\n",
        "    # TODO: Write your implementation here\n",
        "    self.conv1 = nn.Conv2d(in_channels = 1, out_channels = 16, kernel_size = 3, padding = 'same', bias = True)\n",
        "    self.conv2 = nn.Conv2d(in_channels = 16, out_channels = 32, kernel_size = 3, padding = 'same', bias = True)\n",
        "\n",
        "    self.revconv2 = nn.ConvTranspose2d(in_channels = 32, out_channels = 16, kernel_size = 3, padding = 1, bias = True)\n",
        "    self.revconv1 = nn.ConvTranspose2d(in_channels = 16, out_channels = 1, kernel_size = 3, padding = 1, bias = True)\n",
        "\n",
        "    self.relu = nn.ReLU()\n",
        "    self.pool = nn.MaxPool2d(kernel_size = 2, return_indices = True)\n",
        "    self.unpool = nn.MaxUnpool2d(kernel_size = 2)\n",
        "    self.sigmoid = nn.Sigmoid()\n",
        "\n",
        "    self.flatten1 = nn.Flatten(start_dim = -3)\n",
        "    self.flatten2 = nn.Flatten(start_dim = 0, end_dim = 1)\n",
        "\n",
        "    self.unflatten1 = nn.Unflatten(dim = 1, unflattened_size = (1, 28))\n",
        "    self.unflatten2 = nn.Unflatten(dim = -1, unflattened_size = (32, 7, 7))\n",
        "\n",
        "    self.convBlock1 = nn.Sequential(\n",
        "        self.conv1,\n",
        "        self.relu\n",
        "    )\n",
        "\n",
        "    self.convBlock2 = nn.Sequential(\n",
        "        self.conv2,\n",
        "        self.relu,\n",
        "    )\n",
        "\n",
        "\n",
        "    self.revConvBlock2 = nn.Sequential(\n",
        "        self.revconv2,\n",
        "        self.relu,\n",
        "    )\n",
        "\n",
        "    self.revConvBlock1 = nn.Sequential(\n",
        "        self.revconv1,\n",
        "        self.relu,\n",
        "    )\n",
        "\n",
        "    self.encoder = nn.Sequential(\n",
        "        self.flatten1,\n",
        "        nn.Linear(32 * 7 * 7, 32),\n",
        "    )\n",
        "\n",
        "    self.decoder = nn.Sequential(\n",
        "        nn.Linear(32, 32 * 7 * 7),\n",
        "    )\n",
        "\n",
        "  def forward(self, x):\n",
        "    # TODO: Write your implementation here\n",
        "    x = self.unflatten1(x)\n",
        "\n",
        "    x = self.convBlock1(x)\n",
        "    x, idx1 = self.pool(x)\n",
        "\n",
        "    x = self.convBlock2(x)\n",
        "    x, idx2 = self.pool(x)\n",
        "\n",
        "    x = self.encoder(x)\n",
        "    x = self.decoder(x)\n",
        "\n",
        "    # x = x.view((x.shape[0], 32, 7, 7))\n",
        "    x = self.unflatten2(x)\n",
        "\n",
        "    x = self.unpool(x, idx2)\n",
        "    x = self.revConvBlock2(x)\n",
        "\n",
        "    x = self.unpool(x, idx1)\n",
        "    x = self.revConvBlock1(x)\n",
        "\n",
        "    x = self.flatten2(x)\n",
        "\n",
        "    # x = torch.squeeze(x, -3)\n",
        "    # x = x.view((x.shape[0], 28 * 28))\n",
        "    x = self.sigmoid(x)\n",
        "\n",
        "    return x\n",
        "\n",
        "\n",
        "\n",
        "class AdvancedAutoencoder6(nn.Module):\n",
        "  def __init__(self, latent_dim=32):\n",
        "    \"\"\"Make sure encoder compresses the image to a 32-dimensional latent vector.\"\"\"\n",
        "    # final val loss: 0.1167 (after 5 epochs)\n",
        "    super(AdvancedAutoencoder6, self).__init__()\n",
        "    # TODO: Write your implementation here\n",
        "    self.unflatten1 = nn.Unflatten(dim = 1, unflattened_size = (1, 28))\n",
        "\n",
        "    self.encoder = nn.Sequential(\n",
        "        nn.Conv2d(in_channels = 1, out_channels = 16, kernel_size = 3, padding = 1, bias = True),\n",
        "        # nn.ReLU(),\n",
        "        nn.MaxPool2d(kernel_size = 2),\n",
        "        nn.Conv2d(in_channels = 16, out_channels = 32, kernel_size = 3, padding = 1, bias = True),\n",
        "        # nn.ReLU(),\n",
        "        nn.MaxPool2d(kernel_size = 2),\n",
        "        nn.Flatten(),\n",
        "        nn.Linear(32 * 7 * 7, 32)\n",
        "    )\n",
        "\n",
        "    self.decoder = nn.Sequential(\n",
        "        nn.Linear(32, 32 * 7 * 7),\n",
        "        nn.Unflatten(dim = -1, unflattened_size = (32, 7, 7)),\n",
        "        nn.Upsample(scale_factor = 2),\n",
        "        nn.ConvTranspose2d(in_channels = 32, out_channels = 16, kernel_size = 3, padding = 1, bias = True),\n",
        "        # nn.ReLU(),\n",
        "        nn.Upsample(scale_factor = 2),\n",
        "        nn.ConvTranspose2d(in_channels = 16, out_channels = 1, kernel_size = 3, padding = 1, bias = True),\n",
        "        # nn.ReLU(),\n",
        "        nn.Flatten(start_dim = 0, end_dim = 1),\n",
        "        nn.Sigmoid()\n",
        "    )\n",
        "\n",
        "  def forward(self, x):\n",
        "    # TODO: Write your implementation here\n",
        "    x = self.unflatten1(x)\n",
        "    x = self.encoder(x)\n",
        "    x = self.decoder(x)\n",
        "\n",
        "    return x\n",
        "\n",
        "\n",
        "class AdvancedAutoencoder(nn.Module):\n",
        "  def __init__(self, latent_dim=32):\n",
        "    \"\"\"Make sure encoder compresses the image to a 32-dimensional latent vector.\"\"\"\n",
        "    # final val loss: 0.1178 (after 2 epochs)\n",
        "    # final val loss: 0.1044 (after 5 epochs)\n",
        "    super(AdvancedAutoencoder, self).__init__()\n",
        "    # TODO: Write your implementation here\n",
        "\n",
        "    self.encoder = nn.Sequential(\n",
        "        nn.Unflatten(dim = 1, unflattened_size = (1, 28)),\n",
        "        nn.Conv2d(in_channels = 1, out_channels = 16, kernel_size = 3, padding = 1, bias = True),\n",
        "        nn.MaxPool2d(kernel_size = 2),\n",
        "        nn.Conv2d(in_channels = 16, out_channels = 32, kernel_size = 3, padding = 1, bias = True),\n",
        "        nn.MaxPool2d(kernel_size = 2),\n",
        "        nn.Flatten(),\n",
        "        nn.Linear(32 * 7 * 7, 512),\n",
        "        nn.ReLU(),\n",
        "        nn.Linear(512, 256),\n",
        "        nn.ReLU(),\n",
        "        nn.Linear(256, 128),\n",
        "        nn.ReLU(),\n",
        "        nn.Linear(128, 64),\n",
        "        nn.ReLU(),\n",
        "        nn.Linear(64, 32),\n",
        "    )\n",
        "\n",
        "    self.decoder = nn.Sequential(\n",
        "        nn.Linear(32, 64),\n",
        "        nn.ReLU(),\n",
        "        nn.Linear(64, 128),\n",
        "        nn.ReLU(),\n",
        "        nn.Linear(128, 256),\n",
        "        nn.ReLU(),\n",
        "        nn.Linear(256, 512),\n",
        "        nn.ReLU(),\n",
        "        nn.Linear(512, 32 * 7 * 7),\n",
        "        nn.Unflatten(dim = -1, unflattened_size = (32, 7, 7)),\n",
        "        nn.Upsample(scale_factor = 2),\n",
        "        nn.ConvTranspose2d(in_channels = 32, out_channels = 16, kernel_size = 3, padding = 1, bias = True),\n",
        "        nn.Upsample(scale_factor = 2),\n",
        "        nn.ConvTranspose2d(in_channels = 16, out_channels = 1, kernel_size = 3, padding = 1, bias = True),\n",
        "        nn.Flatten(start_dim = 0, end_dim = 1),\n",
        "        nn.Sigmoid()\n",
        "    )\n",
        "\n",
        "  def forward(self, x):\n",
        "    # TODO: Write your implementation here\n",
        "    x = self.encoder(x)\n",
        "    x = self.decoder(x)\n",
        "\n",
        "    return x"
      ]
    },
    {
      "cell_type": "code",
      "source": [
        "for name, param in model.named_parameters():\n",
        "    print(name, param.shape)"
      ],
      "metadata": {
        "colab": {
          "base_uri": "https://localhost:8080/"
        },
        "id": "iP1okBPFprxP",
        "outputId": "f0ab7933-878e-4587-de81-c1e804d0944e"
      },
      "execution_count": 13,
      "outputs": [
        {
          "output_type": "stream",
          "name": "stdout",
          "text": [
            "encoder.1.weight torch.Size([128, 784])\n",
            "encoder.1.bias torch.Size([128])\n",
            "encoder.3.weight torch.Size([64, 128])\n",
            "encoder.3.bias torch.Size([64])\n",
            "encoder.5.weight torch.Size([32, 64])\n",
            "encoder.5.bias torch.Size([32])\n",
            "decoder.0.weight torch.Size([64, 32])\n",
            "decoder.0.bias torch.Size([64])\n",
            "decoder.2.weight torch.Size([128, 64])\n",
            "decoder.2.bias torch.Size([128])\n",
            "decoder.4.weight torch.Size([784, 128])\n",
            "decoder.4.bias torch.Size([784])\n"
          ]
        }
      ]
    },
    {
      "cell_type": "markdown",
      "source": [
        "--------------------\n",
        "Cap model forward pass speed to ensure quick training/evaluation"
      ],
      "metadata": {
        "id": "OVpB-bHPrXHh"
      }
    },
    {
      "cell_type": "code",
      "execution_count": 14,
      "metadata": {
        "id": "H_cMnqInExF-",
        "colab": {
          "base_uri": "https://localhost:8080/"
        },
        "outputId": "9167c0ec-099a-4799-d332-8a1c6352f3aa"
      },
      "outputs": [
        {
          "output_type": "stream",
          "name": "stdout",
          "text": [
            "Forward pass took 0.04881692 seconds\n"
          ]
        }
      ],
      "source": [
        "model = AdvancedAutoencoder()\n",
        "model.eval()\n",
        "max_allowed_time = 0.05  # seconds\n",
        "\n",
        "# Measure time for the forward pass\n",
        "i, (inputs, _) = next(enumerate(train_loader))\n",
        "start_time = time.time()\n",
        "output = model(inputs)\n",
        "end_time = time.time()\n",
        "\n",
        "# Measure once again, time for the forward pass\n",
        "i, (inputs, _) = next(enumerate(train_loader))\n",
        "start_time = time.time()\n",
        "output = model(inputs)\n",
        "end_time = time.time()\n",
        "\n",
        "elapsed_time = end_time - start_time\n",
        "\n",
        "# Assert the time constraint\n",
        "assert elapsed_time <= max_allowed_time, f\"Forward pass exceeded time limit! Took {elapsed_time:.8f} seconds\"\n",
        "print(f\"Forward pass took {elapsed_time:.8f} seconds\")"
      ]
    },
    {
      "cell_type": "markdown",
      "source": [
        "--------------------\n",
        "Random split dataset into training and validation"
      ],
      "metadata": {
        "id": "rueCatHYrl3J"
      }
    },
    {
      "cell_type": "code",
      "execution_count": 15,
      "metadata": {
        "id": "zX9lFUN0HM3f"
      },
      "outputs": [],
      "source": [
        "def random_split(dataset, lengths):\n",
        "    print(\"intended length of training set:\", lengths[0])\n",
        "    print(\"intended length of val set:\", lengths[1])\n",
        "\n",
        "    perm = np.random.permutation(range(len(dataset)))\n",
        "    trainset = []\n",
        "    valset = []\n",
        "\n",
        "    for i in range(len(dataset)):\n",
        "        if i < lengths[0]:\n",
        "            trainset.append(dataset[i])\n",
        "        else:\n",
        "            valset.append(dataset[i])\n",
        "\n",
        "\n",
        "\n",
        "    print(\"\\nlength of sampled training set:\", len(trainset))\n",
        "    print(\"length of sampled validation set:\", len(valset))\n",
        "    print(trainset[0][0].shape, valset[0][0].shape)\n",
        "\n",
        "    return trainset, valset\n",
        "    raise NotImplementedError()"
      ]
    },
    {
      "cell_type": "code",
      "execution_count": 16,
      "metadata": {
        "id": "XqskePqoLBe7",
        "colab": {
          "base_uri": "https://localhost:8080/"
        },
        "outputId": "9b52ff59-098d-4fe3-f977-037d6eb2902d"
      },
      "outputs": [
        {
          "output_type": "stream",
          "name": "stdout",
          "text": [
            "intended length of training set: 48000\n",
            "intended length of val set: 12000\n",
            "\n",
            "length of sampled training set: 48000\n",
            "length of sampled validation set: 12000\n",
            "torch.Size([28, 28]) torch.Size([28, 28])\n"
          ]
        }
      ],
      "source": [
        "# Calculate split sizes\n",
        "train_size = int(0.8 * len(train_dataset))\n",
        "val_size = len(train_dataset) - train_size\n",
        "\n",
        "# Split the dataset\n",
        "train_subset, val_subset = random_split(train_dataset, [train_size, val_size])\n",
        "\n",
        "# Create DataLoaders\n",
        "train_loader = DataLoader(train_subset, batch_size=64, shuffle=True)\n",
        "val_loader = DataLoader(val_subset, batch_size=64, shuffle=False)"
      ]
    },
    {
      "cell_type": "markdown",
      "source": [
        "---------------\n",
        "Model training"
      ],
      "metadata": {
        "id": "z8QSg0e7rw8X"
      }
    },
    {
      "cell_type": "code",
      "execution_count": 17,
      "metadata": {
        "id": "mSUHSfC1OGOh"
      },
      "outputs": [],
      "source": [
        "# train model and calculate validation loss (val_loss)\n",
        "\n",
        "def train_loop(model, loader, epoch, criterion, optimizer):\n",
        "    model.train()\n",
        "    for i, (inputs, _) in enumerate(tqdm(loader, desc=f\"Epoch {epoch + 1}\")):\n",
        "        outputs = model(inputs)\n",
        "        reshaped_outputs = outputs.reshape_as(inputs)\n",
        "\n",
        "        # ensure target is also between 0 and 1\n",
        "        # version 1\n",
        "        # loss = criterion(outputs, s(inputs))\n",
        "\n",
        "        # version 2\n",
        "        # loss = criterion(reshaped_outputs, normalise(inputs))\n",
        "        loss = criterion(outputs, normalise(inputs))\n",
        "\n",
        "        loss.backward()\n",
        "        optimizer.step()\n",
        "\n",
        "        # zero the gradients for next iteration\n",
        "        optimizer.zero_grad()\n",
        "\n",
        "        # train_losses.append(loss.item()) # Store loss for plotting\n",
        "        if (i + 1) % 100 == 0:\n",
        "            print(f\"TRAIN loss: {loss.item()}\")\n",
        "\n",
        "def val_loop(model, loader, epoch, criterion):\n",
        "    model.eval()\n",
        "    with torch.no_grad():\n",
        "        for i, (inputs, _) in enumerate(tqdm(loader, desc=f\"Epoch {epoch + 1}\")):\n",
        "            outputs = model(inputs)\n",
        "            reshaped_outputs = outputs.reshape_as(inputs)\n",
        "\n",
        "            # ensure target is also between 0 and 1\n",
        "            # version 1\n",
        "            # loss = criterion(reshaped_outputs, s(inputs))\n",
        "\n",
        "            # version 2\n",
        "            loss = criterion(reshaped_outputs, normalise(inputs))\n",
        "            # loss = criterion(outputs, normalise(inputs))\n",
        "\n",
        "            # val_losses.append(loss.item()) # Store loss for plotting\n",
        "            if (i + 1) % 50 == 0:\n",
        "                print(f\"VAL loss: {loss.item()}\")\n",
        "\n",
        "    print(f\"\\nEpoch {epoch + 1} final val loss:\", loss, \"\\n\")\n"
      ]
    },
    {
      "cell_type": "code",
      "source": [
        "criterion = nn.BCELoss()\n",
        "\n",
        "optimizer = optim.Adam(model.parameters(), lr=0.0001)\n",
        "\n",
        "# Training Loop\n",
        "for epoch in range(5):\n",
        "    train_loop(model,train_loader, epoch, criterion, optimizer)\n",
        "    val_loop(model, val_loader, epoch, criterion)\n"
      ],
      "metadata": {
        "colab": {
          "base_uri": "https://localhost:8080/"
        },
        "id": "14vS4ujGFZF8",
        "outputId": "5bc3a88d-bd63-4606-b26c-b720a484146f"
      },
      "execution_count": 18,
      "outputs": [
        {
          "output_type": "stream",
          "name": "stderr",
          "text": [
            "Epoch 1:  13%|█▎        | 101/750 [00:11<01:08,  9.49it/s]"
          ]
        },
        {
          "output_type": "stream",
          "name": "stdout",
          "text": [
            "TRAIN loss: 0.24325039982795715\n"
          ]
        },
        {
          "output_type": "stream",
          "name": "stderr",
          "text": [
            "Epoch 1:  27%|██▋       | 201/750 [00:22<00:56,  9.67it/s]"
          ]
        },
        {
          "output_type": "stream",
          "name": "stdout",
          "text": [
            "TRAIN loss: 0.20902785658836365\n"
          ]
        },
        {
          "output_type": "stream",
          "name": "stderr",
          "text": [
            "Epoch 1:  40%|████      | 301/750 [00:34<00:45,  9.89it/s]"
          ]
        },
        {
          "output_type": "stream",
          "name": "stdout",
          "text": [
            "TRAIN loss: 0.17584367096424103\n"
          ]
        },
        {
          "output_type": "stream",
          "name": "stderr",
          "text": [
            "Epoch 1:  53%|█████▎    | 400/750 [00:45<00:35,  9.91it/s]"
          ]
        },
        {
          "output_type": "stream",
          "name": "stdout",
          "text": [
            "TRAIN loss: 0.150008425116539\n"
          ]
        },
        {
          "output_type": "stream",
          "name": "stderr",
          "text": [
            "Epoch 1:  67%|██████▋   | 501/750 [00:57<00:26,  9.50it/s]"
          ]
        },
        {
          "output_type": "stream",
          "name": "stdout",
          "text": [
            "TRAIN loss: 0.14969056844711304\n"
          ]
        },
        {
          "output_type": "stream",
          "name": "stderr",
          "text": [
            "Epoch 1:  80%|████████  | 601/750 [01:08<00:22,  6.53it/s]"
          ]
        },
        {
          "output_type": "stream",
          "name": "stdout",
          "text": [
            "TRAIN loss: 0.1306247115135193\n"
          ]
        },
        {
          "output_type": "stream",
          "name": "stderr",
          "text": [
            "Epoch 1:  93%|█████████▎| 701/750 [01:20<00:07,  6.82it/s]"
          ]
        },
        {
          "output_type": "stream",
          "name": "stdout",
          "text": [
            "TRAIN loss: 0.13476233184337616\n"
          ]
        },
        {
          "output_type": "stream",
          "name": "stderr",
          "text": [
            "Epoch 1: 100%|██████████| 750/750 [01:26<00:00,  8.67it/s]\n",
            "Epoch 1:  29%|██▊       | 54/188 [00:01<00:04, 27.10it/s]"
          ]
        },
        {
          "output_type": "stream",
          "name": "stdout",
          "text": [
            "VAL loss: 0.1318822056055069\n"
          ]
        },
        {
          "output_type": "stream",
          "name": "stderr",
          "text": [
            "Epoch 1:  56%|█████▌    | 105/188 [00:03<00:03, 27.63it/s]"
          ]
        },
        {
          "output_type": "stream",
          "name": "stdout",
          "text": [
            "VAL loss: 0.12772679328918457\n"
          ]
        },
        {
          "output_type": "stream",
          "name": "stderr",
          "text": [
            "Epoch 1:  81%|████████▏ | 153/188 [00:05<00:01, 27.46it/s]"
          ]
        },
        {
          "output_type": "stream",
          "name": "stdout",
          "text": [
            "VAL loss: 0.13921529054641724\n"
          ]
        },
        {
          "output_type": "stream",
          "name": "stderr",
          "text": [
            "Epoch 1: 100%|██████████| 188/188 [00:07<00:00, 25.90it/s]\n"
          ]
        },
        {
          "output_type": "stream",
          "name": "stdout",
          "text": [
            "\n",
            "Epoch 1 final val loss: tensor(0.1395) \n",
            "\n"
          ]
        },
        {
          "output_type": "stream",
          "name": "stderr",
          "text": [
            "Epoch 2:  13%|█▎        | 101/750 [00:12<01:39,  6.52it/s]"
          ]
        },
        {
          "output_type": "stream",
          "name": "stdout",
          "text": [
            "TRAIN loss: 0.13409079611301422\n"
          ]
        },
        {
          "output_type": "stream",
          "name": "stderr",
          "text": [
            "Epoch 2:  27%|██▋       | 201/750 [00:24<01:03,  8.67it/s]"
          ]
        },
        {
          "output_type": "stream",
          "name": "stdout",
          "text": [
            "TRAIN loss: 0.11858775466680527\n"
          ]
        },
        {
          "output_type": "stream",
          "name": "stderr",
          "text": [
            "Epoch 2:  40%|████      | 301/750 [00:37<00:51,  8.80it/s]"
          ]
        },
        {
          "output_type": "stream",
          "name": "stdout",
          "text": [
            "TRAIN loss: 0.11666513234376907\n"
          ]
        },
        {
          "output_type": "stream",
          "name": "stderr",
          "text": [
            "Epoch 2:  53%|█████▎    | 401/750 [00:49<00:41,  8.38it/s]"
          ]
        },
        {
          "output_type": "stream",
          "name": "stdout",
          "text": [
            "TRAIN loss: 0.12089942395687103\n"
          ]
        },
        {
          "output_type": "stream",
          "name": "stderr",
          "text": [
            "Epoch 2:  67%|██████▋   | 501/750 [01:02<00:28,  8.75it/s]"
          ]
        },
        {
          "output_type": "stream",
          "name": "stdout",
          "text": [
            "TRAIN loss: 0.11738786846399307\n"
          ]
        },
        {
          "output_type": "stream",
          "name": "stderr",
          "text": [
            "Epoch 2:  80%|████████  | 601/750 [01:15<00:17,  8.45it/s]"
          ]
        },
        {
          "output_type": "stream",
          "name": "stdout",
          "text": [
            "TRAIN loss: 0.12098602205514908\n"
          ]
        },
        {
          "output_type": "stream",
          "name": "stderr",
          "text": [
            "Epoch 2:  93%|█████████▎| 701/750 [01:27<00:05,  8.73it/s]"
          ]
        },
        {
          "output_type": "stream",
          "name": "stdout",
          "text": [
            "TRAIN loss: 0.10625199228525162\n"
          ]
        },
        {
          "output_type": "stream",
          "name": "stderr",
          "text": [
            "Epoch 2: 100%|██████████| 750/750 [01:34<00:00,  7.96it/s]\n",
            "Epoch 2:  29%|██▊       | 54/188 [00:01<00:04, 28.10it/s]"
          ]
        },
        {
          "output_type": "stream",
          "name": "stdout",
          "text": [
            "VAL loss: 0.11109835654497147\n"
          ]
        },
        {
          "output_type": "stream",
          "name": "stderr",
          "text": [
            "Epoch 2:  56%|█████▌    | 105/188 [00:03<00:03, 27.43it/s]"
          ]
        },
        {
          "output_type": "stream",
          "name": "stdout",
          "text": [
            "VAL loss: 0.11051540076732635\n"
          ]
        },
        {
          "output_type": "stream",
          "name": "stderr",
          "text": [
            "Epoch 2:  81%|████████▏ | 153/188 [00:05<00:01, 27.75it/s]"
          ]
        },
        {
          "output_type": "stream",
          "name": "stdout",
          "text": [
            "VAL loss: 0.11910385638475418\n"
          ]
        },
        {
          "output_type": "stream",
          "name": "stderr",
          "text": [
            "Epoch 2: 100%|██████████| 188/188 [00:06<00:00, 27.51it/s]\n"
          ]
        },
        {
          "output_type": "stream",
          "name": "stdout",
          "text": [
            "\n",
            "Epoch 2 final val loss: tensor(0.1202) \n",
            "\n"
          ]
        },
        {
          "output_type": "stream",
          "name": "stderr",
          "text": [
            "Epoch 3:  13%|█▎        | 101/750 [00:12<01:15,  8.64it/s]"
          ]
        },
        {
          "output_type": "stream",
          "name": "stdout",
          "text": [
            "TRAIN loss: 0.11241140216588974\n"
          ]
        },
        {
          "output_type": "stream",
          "name": "stderr",
          "text": [
            "Epoch 3:  27%|██▋       | 201/750 [00:25<01:05,  8.39it/s]"
          ]
        },
        {
          "output_type": "stream",
          "name": "stdout",
          "text": [
            "TRAIN loss: 0.11402878165245056\n"
          ]
        },
        {
          "output_type": "stream",
          "name": "stderr",
          "text": [
            "Epoch 3:  40%|████      | 301/750 [00:38<00:51,  8.68it/s]"
          ]
        },
        {
          "output_type": "stream",
          "name": "stdout",
          "text": [
            "TRAIN loss: 0.10714247077703476\n"
          ]
        },
        {
          "output_type": "stream",
          "name": "stderr",
          "text": [
            "Epoch 3:  53%|█████▎    | 401/750 [00:50<00:41,  8.43it/s]"
          ]
        },
        {
          "output_type": "stream",
          "name": "stdout",
          "text": [
            "TRAIN loss: 0.11569926887750626\n"
          ]
        },
        {
          "output_type": "stream",
          "name": "stderr",
          "text": [
            "Epoch 3:  67%|██████▋   | 501/750 [01:03<00:28,  8.71it/s]"
          ]
        },
        {
          "output_type": "stream",
          "name": "stdout",
          "text": [
            "TRAIN loss: 0.1136835366487503\n"
          ]
        },
        {
          "output_type": "stream",
          "name": "stderr",
          "text": [
            "Epoch 3:  80%|████████  | 601/750 [01:16<00:17,  8.53it/s]"
          ]
        },
        {
          "output_type": "stream",
          "name": "stdout",
          "text": [
            "TRAIN loss: 0.10673655569553375\n"
          ]
        },
        {
          "output_type": "stream",
          "name": "stderr",
          "text": [
            "Epoch 3:  93%|█████████▎| 701/750 [01:28<00:05,  8.37it/s]"
          ]
        },
        {
          "output_type": "stream",
          "name": "stdout",
          "text": [
            "TRAIN loss: 0.1059374287724495\n"
          ]
        },
        {
          "output_type": "stream",
          "name": "stderr",
          "text": [
            "Epoch 3: 100%|██████████| 750/750 [01:35<00:00,  7.88it/s]\n",
            "Epoch 3:  29%|██▉       | 55/188 [00:02<00:04, 27.62it/s]"
          ]
        },
        {
          "output_type": "stream",
          "name": "stdout",
          "text": [
            "VAL loss: 0.10191144794225693\n"
          ]
        },
        {
          "output_type": "stream",
          "name": "stderr",
          "text": [
            "Epoch 3:  55%|█████▍    | 103/188 [00:04<00:03, 27.47it/s]"
          ]
        },
        {
          "output_type": "stream",
          "name": "stdout",
          "text": [
            "VAL loss: 0.1038087010383606\n"
          ]
        },
        {
          "output_type": "stream",
          "name": "stderr",
          "text": [
            "Epoch 3:  82%|████████▏ | 154/188 [00:06<00:01, 26.54it/s]"
          ]
        },
        {
          "output_type": "stream",
          "name": "stdout",
          "text": [
            "VAL loss: 0.11188250035047531\n"
          ]
        },
        {
          "output_type": "stream",
          "name": "stderr",
          "text": [
            "Epoch 3: 100%|██████████| 188/188 [00:07<00:00, 25.86it/s]\n"
          ]
        },
        {
          "output_type": "stream",
          "name": "stdout",
          "text": [
            "\n",
            "Epoch 3 final val loss: tensor(0.1116) \n",
            "\n"
          ]
        },
        {
          "output_type": "stream",
          "name": "stderr",
          "text": [
            "Epoch 4:  13%|█▎        | 101/750 [00:12<01:15,  8.59it/s]"
          ]
        },
        {
          "output_type": "stream",
          "name": "stdout",
          "text": [
            "TRAIN loss: 0.10441682487726212\n"
          ]
        },
        {
          "output_type": "stream",
          "name": "stderr",
          "text": [
            "Epoch 4:  27%|██▋       | 201/750 [00:25<01:04,  8.49it/s]"
          ]
        },
        {
          "output_type": "stream",
          "name": "stdout",
          "text": [
            "TRAIN loss: 0.10605043172836304\n"
          ]
        },
        {
          "output_type": "stream",
          "name": "stderr",
          "text": [
            "Epoch 4:  40%|████      | 301/750 [00:38<00:51,  8.78it/s]"
          ]
        },
        {
          "output_type": "stream",
          "name": "stdout",
          "text": [
            "TRAIN loss: 0.10775551199913025\n"
          ]
        },
        {
          "output_type": "stream",
          "name": "stderr",
          "text": [
            "Epoch 4:  53%|█████▎    | 401/750 [00:50<00:42,  8.29it/s]"
          ]
        },
        {
          "output_type": "stream",
          "name": "stdout",
          "text": [
            "TRAIN loss: 0.11001759022474289\n"
          ]
        },
        {
          "output_type": "stream",
          "name": "stderr",
          "text": [
            "Epoch 4:  67%|██████▋   | 501/750 [01:03<00:29,  8.48it/s]"
          ]
        },
        {
          "output_type": "stream",
          "name": "stdout",
          "text": [
            "TRAIN loss: 0.09457874298095703\n"
          ]
        },
        {
          "output_type": "stream",
          "name": "stderr",
          "text": [
            "Epoch 4:  80%|████████  | 601/750 [01:16<00:16,  8.80it/s]"
          ]
        },
        {
          "output_type": "stream",
          "name": "stdout",
          "text": [
            "TRAIN loss: 0.09859047085046768\n"
          ]
        },
        {
          "output_type": "stream",
          "name": "stderr",
          "text": [
            "Epoch 4:  93%|█████████▎| 701/750 [01:28<00:05,  8.64it/s]"
          ]
        },
        {
          "output_type": "stream",
          "name": "stdout",
          "text": [
            "TRAIN loss: 0.0960116758942604\n"
          ]
        },
        {
          "output_type": "stream",
          "name": "stderr",
          "text": [
            "Epoch 4: 100%|██████████| 750/750 [01:34<00:00,  7.95it/s]\n",
            "Epoch 4:  28%|██▊       | 52/188 [00:02<00:07, 18.52it/s]"
          ]
        },
        {
          "output_type": "stream",
          "name": "stdout",
          "text": [
            "VAL loss: 0.09645981341600418\n"
          ]
        },
        {
          "output_type": "stream",
          "name": "stderr",
          "text": [
            "Epoch 4:  56%|█████▌    | 105/188 [00:04<00:03, 27.49it/s]"
          ]
        },
        {
          "output_type": "stream",
          "name": "stdout",
          "text": [
            "VAL loss: 0.09832660853862762\n"
          ]
        },
        {
          "output_type": "stream",
          "name": "stderr",
          "text": [
            "Epoch 4:  81%|████████▏ | 153/188 [00:06<00:01, 28.15it/s]"
          ]
        },
        {
          "output_type": "stream",
          "name": "stdout",
          "text": [
            "VAL loss: 0.10595128685235977\n"
          ]
        },
        {
          "output_type": "stream",
          "name": "stderr",
          "text": [
            "Epoch 4: 100%|██████████| 188/188 [00:07<00:00, 23.75it/s]\n"
          ]
        },
        {
          "output_type": "stream",
          "name": "stdout",
          "text": [
            "\n",
            "Epoch 4 final val loss: tensor(0.1061) \n",
            "\n"
          ]
        },
        {
          "output_type": "stream",
          "name": "stderr",
          "text": [
            "Epoch 5:  13%|█▎        | 101/750 [00:12<01:16,  8.44it/s]"
          ]
        },
        {
          "output_type": "stream",
          "name": "stdout",
          "text": [
            "TRAIN loss: 0.09261076897382736\n"
          ]
        },
        {
          "output_type": "stream",
          "name": "stderr",
          "text": [
            "Epoch 5:  27%|██▋       | 201/750 [00:25<01:05,  8.39it/s]"
          ]
        },
        {
          "output_type": "stream",
          "name": "stdout",
          "text": [
            "TRAIN loss: 0.10015150904655457\n"
          ]
        },
        {
          "output_type": "stream",
          "name": "stderr",
          "text": [
            "Epoch 5:  40%|████      | 301/750 [00:38<00:53,  8.42it/s]"
          ]
        },
        {
          "output_type": "stream",
          "name": "stdout",
          "text": [
            "TRAIN loss: 0.10450389236211777\n"
          ]
        },
        {
          "output_type": "stream",
          "name": "stderr",
          "text": [
            "Epoch 5:  53%|█████▎    | 401/750 [00:50<00:41,  8.50it/s]"
          ]
        },
        {
          "output_type": "stream",
          "name": "stdout",
          "text": [
            "TRAIN loss: 0.10196834802627563\n"
          ]
        },
        {
          "output_type": "stream",
          "name": "stderr",
          "text": [
            "Epoch 5:  67%|██████▋   | 501/750 [01:03<00:29,  8.53it/s]"
          ]
        },
        {
          "output_type": "stream",
          "name": "stdout",
          "text": [
            "TRAIN loss: 0.09436655789613724\n"
          ]
        },
        {
          "output_type": "stream",
          "name": "stderr",
          "text": [
            "Epoch 5:  80%|████████  | 601/750 [01:16<00:17,  8.29it/s]"
          ]
        },
        {
          "output_type": "stream",
          "name": "stdout",
          "text": [
            "TRAIN loss: 0.1000571921467781\n"
          ]
        },
        {
          "output_type": "stream",
          "name": "stderr",
          "text": [
            "Epoch 5:  93%|█████████▎| 701/750 [01:28<00:05,  8.45it/s]"
          ]
        },
        {
          "output_type": "stream",
          "name": "stdout",
          "text": [
            "TRAIN loss: 0.10110446065664291\n"
          ]
        },
        {
          "output_type": "stream",
          "name": "stderr",
          "text": [
            "Epoch 5: 100%|██████████| 750/750 [01:34<00:00,  7.91it/s]\n",
            "Epoch 5:  29%|██▊       | 54/188 [00:01<00:04, 27.76it/s]"
          ]
        },
        {
          "output_type": "stream",
          "name": "stdout",
          "text": [
            "VAL loss: 0.09411029517650604\n"
          ]
        },
        {
          "output_type": "stream",
          "name": "stderr",
          "text": [
            "Epoch 5:  55%|█████▍    | 103/188 [00:04<00:04, 18.05it/s]"
          ]
        },
        {
          "output_type": "stream",
          "name": "stdout",
          "text": [
            "VAL loss: 0.0953880101442337\n"
          ]
        },
        {
          "output_type": "stream",
          "name": "stderr",
          "text": [
            "Epoch 5:  81%|████████▏ | 153/188 [00:06<00:01, 27.48it/s]"
          ]
        },
        {
          "output_type": "stream",
          "name": "stdout",
          "text": [
            "VAL loss: 0.10243472456932068\n"
          ]
        },
        {
          "output_type": "stream",
          "name": "stderr",
          "text": [
            "Epoch 5: 100%|██████████| 188/188 [00:07<00:00, 23.66it/s]"
          ]
        },
        {
          "output_type": "stream",
          "name": "stdout",
          "text": [
            "\n",
            "Epoch 5 final val loss: tensor(0.1034) \n",
            "\n"
          ]
        },
        {
          "output_type": "stream",
          "name": "stderr",
          "text": [
            "\n"
          ]
        }
      ]
    },
    {
      "cell_type": "code",
      "source": [
        "torch.save(model, \"/content/convolutional_autoencoder_model.pth\")"
      ],
      "metadata": {
        "id": "U5t_YVIKc1-Y"
      },
      "execution_count": 19,
      "outputs": []
    },
    {
      "cell_type": "markdown",
      "metadata": {
        "id": "9SkgaQkiENKj"
      },
      "source": [
        "# Section 3 - Generate new RBG Images"
      ]
    },
    {
      "cell_type": "markdown",
      "metadata": {
        "id": "0pHC3L9YpaT5"
      },
      "source": [
        "--------------------\n",
        "Load best autoencoder"
      ]
    },
    {
      "cell_type": "code",
      "source": [
        "def load_model():\n",
        "  model = torch.load(\"/content/convolutional_autoencoder_model.pth\")\n",
        "  model.eval()\n",
        "  return model\n",
        "\n",
        "model = load_model()\n",
        "\n",
        "for name, param in model.named_parameters():\n",
        "    print(name, param.shape)"
      ],
      "metadata": {
        "colab": {
          "base_uri": "https://localhost:8080/"
        },
        "id": "CyIpaUmJeIIp",
        "outputId": "aca11494-63eb-4842-c074-6d8c8559f9be"
      },
      "execution_count": 20,
      "outputs": [
        {
          "output_type": "stream",
          "name": "stdout",
          "text": [
            "encoder.1.weight torch.Size([16, 1, 3, 3])\n",
            "encoder.1.bias torch.Size([16])\n",
            "encoder.3.weight torch.Size([32, 16, 3, 3])\n",
            "encoder.3.bias torch.Size([32])\n",
            "encoder.6.weight torch.Size([512, 1568])\n",
            "encoder.6.bias torch.Size([512])\n",
            "encoder.8.weight torch.Size([256, 512])\n",
            "encoder.8.bias torch.Size([256])\n",
            "encoder.10.weight torch.Size([128, 256])\n",
            "encoder.10.bias torch.Size([128])\n",
            "encoder.12.weight torch.Size([64, 128])\n",
            "encoder.12.bias torch.Size([64])\n",
            "encoder.14.weight torch.Size([32, 64])\n",
            "encoder.14.bias torch.Size([32])\n",
            "decoder.0.weight torch.Size([64, 32])\n",
            "decoder.0.bias torch.Size([64])\n",
            "decoder.2.weight torch.Size([128, 64])\n",
            "decoder.2.bias torch.Size([128])\n",
            "decoder.4.weight torch.Size([256, 128])\n",
            "decoder.4.bias torch.Size([256])\n",
            "decoder.6.weight torch.Size([512, 256])\n",
            "decoder.6.bias torch.Size([512])\n",
            "decoder.8.weight torch.Size([1568, 512])\n",
            "decoder.8.bias torch.Size([1568])\n",
            "decoder.11.weight torch.Size([32, 16, 3, 3])\n",
            "decoder.11.bias torch.Size([16])\n",
            "decoder.13.weight torch.Size([16, 1, 3, 3])\n",
            "decoder.13.bias torch.Size([1])\n"
          ]
        },
        {
          "output_type": "stream",
          "name": "stderr",
          "text": [
            "<ipython-input-20-8e82bc15fe3b>:2: FutureWarning: You are using `torch.load` with `weights_only=False` (the current default value), which uses the default pickle module implicitly. It is possible to construct malicious pickle data which will execute arbitrary code during unpickling (See https://github.com/pytorch/pytorch/blob/main/SECURITY.md#untrusted-models for more details). In a future release, the default value for `weights_only` will be flipped to `True`. This limits the functions that could be executed during unpickling. Arbitrary objects will no longer be allowed to be loaded via this mode unless they are explicitly allowlisted by the user via `torch.serialization.add_safe_globals`. We recommend you start setting `weights_only=True` for any use case where you don't have full control of the loaded file. Please open an issue on GitHub for any issues related to this experimental feature.\n",
            "  model = torch.load(\"/content/convolutional_autoencoder_model.pth\")\n"
          ]
        }
      ]
    },
    {
      "cell_type": "markdown",
      "source": [
        "------------------------\n",
        "Determine the mean and standard deviation for the latent vectors for each digit"
      ],
      "metadata": {
        "id": "DBcQmuRFtQyv"
      }
    },
    {
      "cell_type": "code",
      "source": [
        "def statistic(model, stats, dataset):\n",
        "    i = 0\n",
        "    model.eval()\n",
        "    with torch.no_grad():\n",
        "        for input,label in dataset:\n",
        "            input = torch.unsqueeze(input, 0)\n",
        "            # input = nn.Unflatten(dim = 1, unflattened_size = (1, 28))(input)\n",
        "            dlatent = model.encoder(input)\n",
        "            stats[label].append(dlatent)\n",
        "            i += 1\n",
        "\n",
        "    for i in stats:\n",
        "        all = torch.stack(stats[i], dim = 0)\n",
        "        mean = torch.mean(all, dim = 0)\n",
        "        std = torch.std(all, dim = 0)\n",
        "        stats[i] = {\"mean\": mean, 'std': std}\n",
        "\n",
        "stats = {i:[] for i in range(10)}\n",
        "statistic(model, stats, train_dataset)\n"
      ],
      "metadata": {
        "id": "zrltko3fwbZU"
      },
      "execution_count": 21,
      "outputs": []
    },
    {
      "cell_type": "markdown",
      "source": [
        "-----------------\n",
        "Generate RGB digit"
      ],
      "metadata": {
        "id": "YaDHah7stYbM"
      }
    },
    {
      "cell_type": "code",
      "execution_count": 22,
      "metadata": {
        "id": "6qsjSzEfsUuB"
      },
      "outputs": [],
      "source": [
        "def generate_image_from_digit(digit: int, n_samples: int, color = \"all\") -> NDArray[np.float32]:\n",
        "    \"\"\"\n",
        "    Returns an RGB MNIST image (with values between [0, 255]) as a 3D NumPy array of dtype float32.\n",
        "    \"\"\"\n",
        "    assert digit <= 9  and digit >= 0, \"Digit must be between 0 and 9\"\n",
        "    # TODO: Write your implementation here\n",
        "    generated_images = []\n",
        "\n",
        "    factor = 0.5\n",
        "    mean = stats[digit][\"mean\"]\n",
        "    std = stats[digit][\"std\"] * factor\n",
        "\n",
        "    dlatent_r = torch.normal(mean, std)\n",
        "    dlatent_g = torch.normal(mean, std)\n",
        "    dlatent_b = torch.normal(mean, std)\n",
        "\n",
        "    model.eval()\n",
        "    with torch.no_grad():\n",
        "        for i in range(n_samples):\n",
        "            if color == \"all\":\n",
        "                r = model.decoder(dlatent_r)\n",
        "                g = model.decoder(dlatent_g)\n",
        "                b = model.decoder(dlatent_b)\n",
        "\n",
        "            elif color == 'red':\n",
        "                r = model.decoder(dlatent_r)\n",
        "                g = torch.zeros((1, 28, 28))\n",
        "                b = torch.zeros((1, 28, 28))\n",
        "\n",
        "            elif color == 'blue':\n",
        "                b = model.decoder(dlatent_b)\n",
        "                g = torch.zeros((1, 28, 28))\n",
        "                r = torch.zeros((1, 28, 28))\n",
        "\n",
        "            else:\n",
        "                g = model.decoder(dlatent_g)\n",
        "                b = torch.zeros((1, 28, 28))\n",
        "                r = torch.zeros((1, 28, 28))\n",
        "\n",
        "            r = torch.squeeze(r, dim = 0)\n",
        "            g = torch.squeeze(g, dim = 0)\n",
        "            b = torch.squeeze(b, dim = 0)\n",
        "\n",
        "            img = torch.stack((r,g,b), dim = -1)\n",
        "            numpy_img = img.numpy()\n",
        "\n",
        "            generated_images.append(numpy_img)\n",
        "\n",
        "    return generated_images\n"
      ]
    },
    {
      "cell_type": "code",
      "execution_count": 23,
      "metadata": {
        "id": "D5hskPUOxD3i",
        "colab": {
          "base_uri": "https://localhost:8080/",
          "height": 1000
        },
        "outputId": "9c4052fc-3c36-474a-c19c-dbdf33ed5c28"
      },
      "outputs": [
        {
          "output_type": "display_data",
          "data": {
            "text/plain": [
              "<Figure size 640x480 with 2 Axes>"
            ],
            "image/png": "[encoded data removed]"
          },
          "metadata": {}
        },
        {
          "output_type": "display_data",
          "data": {
            "text/plain": [
              "<Figure size 640x480 with 2 Axes>"
            ],
            "image/png": "[encoded data removed]"
          },
          "metadata": {}
        },
        {
          "output_type": "display_data",
          "data": {
            "text/plain": [
              "<Figure size 640x480 with 2 Axes>"
            ],
            "image/png": "[encoded data removed]"
          },
          "metadata": {}
        },
        {
          "output_type": "display_data",
          "data": {
            "text/plain": [
              "<Figure size 640x480 with 2 Axes>"
            ],
            "image/png": "[encoded data removed]"
          },
          "metadata": {}
        },
        {
          "output_type": "display_data",
          "data": {
            "text/plain": [
              "<Figure size 640x480 with 2 Axes>"
            ],
            "image/png": "[encoded data removed]"
          },
          "metadata": {}
        },
        {
          "output_type": "display_data",
          "data": {
            "text/plain": [
              "<Figure size 640x480 with 2 Axes>"
            ],
            "image/png": "[encoded data removed]"
          },
          "metadata": {}
        },
        {
          "output_type": "display_data",
          "data": {
            "text/plain": [
              "<Figure size 640x480 with 2 Axes>"
            ],
            "image/png": "[encoded data removed]"
          },
          "metadata": {}
        },
        {
          "output_type": "display_data",
          "data": {
            "text/plain": [
              "<Figure size 640x480 with 2 Axes>"
            ],
            "image/png": "[encoded data removed]"
          },
          "metadata": {}
        },
        {
          "output_type": "display_data",
          "data": {
            "text/plain": [
              "<Figure size 640x480 with 2 Axes>"
            ],
            "image/png": "[encoded data removed]"
          },
          "metadata": {}
        },
        {
          "output_type": "display_data",
          "data": {
            "text/plain": [
              "<Figure size 640x480 with 2 Axes>"
            ],
            "image/png": "[encoded data removed]"
          },
          "metadata": {}
        }
      ],
      "source": [
        "def visualise_images(digit, n_samples):\n",
        "  generated_images = generate_image_from_digit(digit, n_samples, \"all\")\n",
        "  for i in range(n_samples):\n",
        "      plt.subplot(1, n_samples, i + 1)\n",
        "      plt.imshow(generated_images[i], cmap='gray')\n",
        "      plt.axis('off')\n",
        "\n",
        "  plt.show()\n",
        "\n",
        "for digit in range(10):\n",
        "  visualise_images(digit, 2)"
      ]
    },
    {
      "cell_type": "code",
      "execution_count": 24,
      "metadata": {
        "id": "KD19G9l1EAC0"
      },
      "outputs": [],
      "source": [
        "def check_generator_produces_different_images(digit):\n",
        "    generated_images = [generate_image_from_digit(digit, 1)[0] for _ in range(2)]\n",
        "    return not torch.allclose(torch.from_numpy(generated_images[0]), torch.from_numpy(generated_images[1]))"
      ]
    },
    {
      "cell_type": "code",
      "execution_count": 25,
      "metadata": {
        "id": "BvllsCRdXapl"
      },
      "outputs": [],
      "source": [
        "for digit in range(10):\n",
        "  assert check_generator_produces_different_images(digit), \"Generator must be able to produce different images for the same digit\""
      ]
    }
  ],
  "metadata": {
    "colab": {
      "provenance": []
    },
    "kernelspec": {
      "display_name": "Python 3 (ipykernel)",
      "language": "python",
      "name": "python3"
    },
    "language_info": {
      "codemirror_mode": {
        "name": "ipython",
        "version": 3
      },
      "file_extension": ".py",
      "mimetype": "text/x-python",
      "name": "python",
      "nbconvert_exporter": "python",
      "pygments_lexer": "ipython3",
      "version": "3.10.8"
    },
    "toc-autonumbering": false
  },
  "nbformat": 4,
  "nbformat_minor": 0
}